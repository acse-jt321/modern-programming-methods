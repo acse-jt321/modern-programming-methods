{
 "cells": [
  {
   "cell_type": "markdown",
   "id": "8695a343",
   "metadata": {},
   "source": [
    "## Lecture four \"Answers\"\n",
    "\n",
    "This notebook contains example code dealing with the Python in the exercises. Note that the point is the testing, not in the Python\n",
    "\n",
    "### Exercise One\n",
    "\n",
    "#### Anagrams\n",
    "\n",
    "Note this implementation makes the choice to ignore case. It's not particularly efficient (we could fail a lot faster)."
   ]
  },
  {
   "cell_type": "code",
   "execution_count": 1,
   "id": "1c0758b7",
   "metadata": {},
   "outputs": [],
   "source": [
    "def test_anagram(word1, word2):\n",
    "    \"\"\"Check if words are anagrams.\n",
    "    \n",
    "    \n",
    "    Parameters\n",
    "    ----------\n",
    "    word1: str\n",
    "       First word\n",
    "    word2: str\n",
    "       Second word\n",
    "       \n",
    "    Result\n",
    "    ------\n",
    "    \n",
    "    bool\n",
    "       True if and only if word1 and word2 are anagrams.\n",
    "    \"\"\"\n",
    "    \n",
    "    return sorted(word1.lower())==sorted(word2.lower())\n",
    "\n"
   ]
  },
  {
   "cell_type": "code",
   "execution_count": 2,
   "id": "dcea43e7",
   "metadata": {},
   "outputs": [
    {
     "data": {
      "text/plain": [
       "True"
      ]
     },
     "execution_count": 2,
     "metadata": {},
     "output_type": "execute_result"
    }
   ],
   "source": [
    "test_anagram(\"Carthorse\", \"Orchestra\")"
   ]
  },
  {
   "cell_type": "code",
   "execution_count": 3,
   "id": "1f16bf43",
   "metadata": {},
   "outputs": [
    {
     "data": {
      "text/plain": [
       "False"
      ]
     },
     "execution_count": 3,
     "metadata": {},
     "output_type": "execute_result"
    }
   ],
   "source": [
    "test_anagram(\"cat\", \"dog\")"
   ]
  },
  {
   "cell_type": "markdown",
   "id": "01e886f0",
   "metadata": {},
   "source": [
    "#### Array closest numbers\n",
    "\n",
    "Again, this version isn't particularly efficient. We certainly double count by generating a matrix of differences. We also make several choices about how to deal with corner cases.\n"
   ]
  },
  {
   "cell_type": "code",
   "execution_count": 4,
   "id": "e1fc7295",
   "metadata": {},
   "outputs": [],
   "source": [
    "import numpy as np\n",
    "\n",
    "def closest_elements(array):\n",
    "    \"\"\"Find closest elements.\"\"\"\n",
    "    \n",
    "    array = np.asarray(array, np.float64) # convert to floats to be safe\n",
    "\n",
    "    diff = np.abs(np.subtract.outer(array, array))\n",
    "    \n",
    "    diff += np.diag(np.full(len(array), np.inf)) # Set diagonal to infinity\n",
    "    \n",
    "    index = np.unravel_index(np.argmin(diff, axis=None), diff.shape)\n",
    "    \n",
    "    return array[index[0]], array[index[1]]"
   ]
  },
  {
   "cell_type": "code",
   "execution_count": 5,
   "id": "05e43c38",
   "metadata": {},
   "outputs": [
    {
     "data": {
      "text/plain": [
       "(3.0, 4.0)"
      ]
     },
     "execution_count": 5,
     "metadata": {},
     "output_type": "execute_result"
    }
   ],
   "source": [
    "closest_elements([1, 3, 4, 9, 100])"
   ]
  },
  {
   "cell_type": "markdown",
   "id": "21679daa",
   "metadata": {},
   "source": [
    "# Exercise two\n",
    "\n",
    "### Fizzbuzz\n",
    "\n",
    "This is very \"plain\" implementation"
   ]
  },
  {
   "cell_type": "code",
   "execution_count": 7,
   "id": "060b646f",
   "metadata": {},
   "outputs": [],
   "source": [
    "def fizzbuzz(x):\n",
    "    if x%15==0:\n",
    "        return \"fizzbuzz\"\n",
    "    elif x%5==0: \n",
    "        return \"buzz\"\n",
    "    elif x%3==0:\n",
    "        return \"fizz\"\n",
    "    return x"
   ]
  },
  {
   "cell_type": "code",
   "execution_count": 9,
   "id": "8c3de4c3",
   "metadata": {},
   "outputs": [
    {
     "name": "stdout",
     "output_type": "stream",
     "text": [
      "9 fizz\n",
      "60 fizzbuzz\n",
      "4 4\n"
     ]
    }
   ],
   "source": [
    "for x in [9, 60, 4]:\n",
    "    print(x, fizzbuzz(x))"
   ]
  },
  {
   "cell_type": "markdown",
   "id": "d8f29ef1",
   "metadata": {},
   "source": [
    "###  Array reordering\n",
    "\n",
    "For once, this implementation is relatively efficient, since we use numpy for everything."
   ]
  },
  {
   "cell_type": "code",
   "execution_count": 18,
   "id": "3a44a65c",
   "metadata": {},
   "outputs": [],
   "source": [
    "import numpy as np\n",
    "def reorder(array):\n",
    "    d1array = array.ravel()\n",
    "    d1array.sort()\n",
    "    return d1array.reshape(array.shape)"
   ]
  },
  {
   "cell_type": "code",
   "execution_count": 19,
   "id": "e4b3111a",
   "metadata": {},
   "outputs": [
    {
     "name": "stdout",
     "output_type": "stream",
     "text": [
      "[[1 2 3]\n",
      " [4 5 6]\n",
      " [7 8 9]]\n"
     ]
    }
   ],
   "source": [
    "X = np.array([[9, 8, 7],\n",
    "              [6, 5, 4],\n",
    "              [3, 2, 1]])\n",
    "\n",
    "print(reorder(X))"
   ]
  },
  {
   "cell_type": "markdown",
   "id": "7378690b",
   "metadata": {},
   "source": [
    "### Password check\n",
    "\n",
    "We'll do this the explicit but slow way. The quicker way fo checking would use the regex checking module `re`."
   ]
  },
  {
   "cell_type": "code",
   "execution_count": 20,
   "id": "c64aec88",
   "metadata": {},
   "outputs": [],
   "source": [
    "def password_check(password):\n",
    "    password \n",
    "    flag = 8<=len(password)<=1024\n",
    "    flag = flag and any([str(x) in password for x in range(10)])\n",
    "    flag = flag and any([x in password for x in \"ABCDEFGHIJKLMNOPQRSTUVWXYZ\"])\n",
    "    flag = flag and not any([x in password for x in \"@<>!\"])\n",
    "    \n",
    "    return flag"
   ]
  },
  {
   "cell_type": "code",
   "execution_count": 25,
   "id": "28d3167c",
   "metadata": {},
   "outputs": [
    {
     "name": "stdout",
     "output_type": "stream",
     "text": [
      "passingWord1 True\n",
      "2Short False\n",
      "no_capsBad1!!!!!!!! False\n"
     ]
    }
   ],
   "source": [
    "for x in (\"passingWord1\",\n",
    "          \"2Short\",\n",
    "          \"no_caps\"\n",
    "          \"Bad1!!!!!!!!\"):\n",
    "    print(x, password_check(x))"
   ]
  },
  {
   "cell_type": "code",
   "execution_count": null,
   "id": "dfced863",
   "metadata": {},
   "outputs": [],
   "source": []
  }
 ],
 "metadata": {
  "kernelspec": {
   "display_name": "Python 3",
   "language": "python",
   "name": "python3"
  },
  "language_info": {
   "codemirror_mode": {
    "name": "ipython",
    "version": 3
   },
   "file_extension": ".py",
   "mimetype": "text/x-python",
   "name": "python",
   "nbconvert_exporter": "python",
   "pygments_lexer": "ipython3",
   "version": "3.8.8"
  }
 },
 "nbformat": 4,
 "nbformat_minor": 5
}
