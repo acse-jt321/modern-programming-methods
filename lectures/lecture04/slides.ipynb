{
 "cells": [
  {
   "cell_type": "markdown",
   "metadata": {
    "slideshow": {
     "slide_type": "slide"
    }
   },
   "source": [
    "# Automated Testing and Automatic documentation\n",
    "\n",
    "\n",
    "### Lecture Four \n",
    "### 14th October 2021 \n",
    "### Version 4.0.0"
   ]
  },
  {
   "cell_type": "markdown",
   "metadata": {
    "slideshow": {
     "slide_type": "slide"
    }
   },
   "source": [
    "<div class=\"alert alert-info\">\n",
    "  \n",
    "Yesterday we covered:\n",
    "- <b>Software environments</b>.\n",
    "  \n",
    "In this lecture we will cover:\n",
    "- <b>Software Code Testing</b>\n",
    "- <b>Automated testing frameworks</b>\n",
    "- <b>Automatic Documentation Generation</b>\n",
    "\n",
    "</div>"
   ]
  },
  {
   "cell_type": "markdown",
   "metadata": {
    "slideshow": {
     "slide_type": "slide"
    }
   },
   "source": [
    "### By the end of this lecture you should:\n",
    " - Understand the basics of manual & automated code testing\n",
    " - Understand the different sorts of test.\n",
    " - Use Sphinx to generate documentation from docstrings"
   ]
  },
  {
   "cell_type": "markdown",
   "metadata": {
    "slideshow": {
     "slide_type": "slide"
    }
   },
   "source": [
    " ### How do we prove correctness?\n",
    "\n",
    " Very, very seldom, we can use mathematics or logic\n",
    "\n",
    " ### Usually, we test\n",
    " \n",
    " Feed in known input, expect known output\n",
    " "
   ]
  },
  {
   "cell_type": "markdown",
   "metadata": {
    "slideshow": {
     "slide_type": "slide"
    }
   },
   "source": [
    " ### Common idea, let's start off ad-hoc\n",
    "\n",
    " Say we have a function `add(x, y)` to add two numbers.\n",
    " \n",
    " Let's put down some tests."
   ]
  },
  {
   "cell_type": "code",
   "execution_count": null,
   "metadata": {},
   "outputs": [],
   "source": [
    "print(add(1, 0) == 1)\n",
    "print(add(1, 1) == 2)"
   ]
  },
  {
   "cell_type": "markdown",
   "metadata": {
    "slideshow": {
     "slide_type": "slide"
    }
   },
   "source": [
    " It's hard (actually impossible) to catch every failure, e.g. this passes both tests, but we can catch the regular ones.\n",
    "\n",
    "\n",
    "```python\n",
    "def add(x, y):\n",
    "    return x**2+y**2\n",
    "```"
   ]
  },
  {
   "cell_type": "markdown",
   "metadata": {
    "slideshow": {
     "slide_type": "slide"
    }
   },
   "source": [
    "#### \"Test to pass\" vs \"Test to fail\"\n",
    "\n",
    "Some tests we want an answer.\n",
    "\n",
    "Some tests we want an error/exception.\n",
    "\n",
    "Can (almost always) rewrite second type as first."
   ]
  },
  {
   "cell_type": "markdown",
   "metadata": {
    "slideshow": {
     "slide_type": "slide"
    }
   },
   "source": [
    "#### The useful `assert` statement"
   ]
  },
  {
   "cell_type": "code",
   "execution_count": null,
   "metadata": {},
   "outputs": [],
   "source": [
    "assert True"
   ]
  },
  {
   "cell_type": "code",
   "execution_count": null,
   "metadata": {},
   "outputs": [],
   "source": [
    "assert False"
   ]
  },
  {
   "cell_type": "code",
   "execution_count": null,
   "metadata": {},
   "outputs": [],
   "source": [
    "assert False, \"useful message\""
   ]
  },
  {
   "cell_type": "code",
   "execution_count": null,
   "metadata": {},
   "outputs": [],
   "source": [
    "x = 7\n",
    "try:\n",
    "    assert x%2 == 1\n",
    "    raise ValueError(\"want x odd.\")\n",
    "except AssertionError:\n",
    "    pass\n",
    "    "
   ]
  },
  {
   "cell_type": "markdown",
   "metadata": {
    "slideshow": {
     "slide_type": "subslide"
    }
   },
   "source": [
    "`assert` is a statment (no brackets), not a function (which need brackets)\n",
    "\n",
    "Can lead to hard-to-spot bugs if you forget (especially in IDEs)"
   ]
  },
  {
   "cell_type": "code",
   "execution_count": null,
   "metadata": {},
   "outputs": [],
   "source": [
    "try:\n",
    "    assert(False, \"Oops!\")\n",
    "except AssertionError:\n",
    "    print(\"does this print\")"
   ]
  },
  {
   "cell_type": "markdown",
   "metadata": {
    "slideshow": {
     "slide_type": "slide"
    }
   },
   "source": [
    "<div class=\"alert alert-info\"> \n",
    "    \n",
    "<h3>Exercise one</h3>\n",
    "\n",
    "\n",
    "Here are some interview style questions, come up with some tests\n",
    "\n",
    "1. Write a boolean function which accepts two strings and returns True if they are anagrams (i.e. contain the same set of letters in any order), or False otherwise)\n",
    "2. Write a function to output the two nearest numbers in an array.\n",
    "    \n",
    "</div>"
   ]
  },
  {
   "cell_type": "markdown",
   "metadata": {
    "slideshow": {
     "slide_type": "slide"
    }
   },
   "source": [
    "### Test Driven Development & Red-Green testing\n",
    "\n",
    "Tests are often much harder to write than code.\n",
    "\n",
    "Why not deal with them first?\n",
    "\n",
    "Several advantages:\n",
    "\n",
    "- Spend energy on the hard part\n",
    "- Know test will fail\n",
    "- Think about functionality to test, not implementation"
   ]
  },
  {
   "cell_type": "markdown",
   "metadata": {
    "slideshow": {
     "slide_type": "slide"
    }
   },
   "source": [
    "## TDD development cycle:\n",
    "\n",
    "1. Write a (failing) test\n",
    "2. Write enough code to fix it\n",
    "3. Refactor/clean up rest of code to match"
   ]
  },
  {
   "cell_type": "markdown",
   "metadata": {
    "slideshow": {
     "slide_type": "slide"
    }
   },
   "source": [
    "## Example: find repeated elements\n",
    "\n",
    "Suppose we need a function which finds repeated elements in a list.\n",
    "\n",
    "Start with do nothing function"
   ]
  },
  {
   "cell_type": "code",
   "execution_count": null,
   "metadata": {},
   "outputs": [],
   "source": [
    "def f(x):\n",
    "    \"\"\"Return the repeated elements in a list.\"\"\"\n",
    "    pass"
   ]
  },
  {
   "cell_type": "markdown",
   "metadata": {},
   "source": [
    " plus a test which expresses our concept"
   ]
  },
  {
   "cell_type": "code",
   "execution_count": null,
   "metadata": {},
   "outputs": [],
   "source": [
    "assert f([0, 1, 1]) == 1"
   ]
  },
  {
   "cell_type": "markdown",
   "metadata": {
    "slideshow": {
     "slide_type": "subslide"
    }
   },
   "source": [
    "Try adding another test:"
   ]
  },
  {
   "cell_type": "code",
   "execution_count": null,
   "metadata": {},
   "outputs": [],
   "source": [
    "assert f([0, 1, 1, 0]) == [0, 1]"
   ]
  },
  {
   "cell_type": "markdown",
   "metadata": {
    "slideshow": {
     "slide_type": "subslide"
    }
   },
   "source": [
    "## Good tests for numerical methods\n",
    "\n",
    "For numerical methods, often have limited exact solutions which we can calculate by hand\n",
    "\n",
    "Also \"method of manufactured solutions\", add extra stuff to the original system (e.g. put in additional forcing terms or friction) to make hand calculated solutions exist."
   ]
  },
  {
   "cell_type": "markdown",
   "metadata": {
    "slideshow": {
     "slide_type": "slide"
    }
   },
   "source": [
    "Good tests are:\n",
    "\n",
    "1. Fast\n",
    "2. Complete\n",
    "3. Reliable\n",
    "4. Maintainable"
   ]
  },
  {
   "cell_type": "markdown",
   "metadata": {},
   "source": [
    "<div class=\"alert alert-info\"> \n",
    "    \n",
    "<h3>Exercise two: TDD</h3>\n",
    "\n",
    "\n",
    "Have a go at test driven development on some toy problems. Remember, tests first!\n",
    "\n",
    "Real problems would be bigger & more complicated\n",
    "    \n",
    "</div>"
   ]
  },
  {
   "cell_type": "markdown",
   "metadata": {
    "slideshow": {
     "slide_type": "slide"
    }
   },
   "source": [
    "## Ways to run tests:\n",
    "\n",
    "### Ad-hoc tests\n",
    "\n",
    "What we've been doing already, but it gets boring fast, especially as we add more\n",
    "\n",
    "Let think through some alternatives"
   ]
  },
  {
   "cell_type": "code",
   "execution_count": null,
   "metadata": {
    "slideshow": {
     "slide_type": "subslide"
    }
   },
   "outputs": [],
   "source": [
    "from math import sqrt\n",
    "\n",
    "def solve_quadratic(a,b,c):\n",
    "    \"\"\"Solve a quadratic equation ax^2+bx+c=0 in the reals\"\"\"\n",
    "    if b**2-4.0*a*c>0:\n",
    "        # two solutions\n",
    "        return ((-b-sqrt(b**2-4.0*a*c))/(2.0*a),(-b+sqrt(b**2-4.0*a*c))/(2.0*a))\n",
    "    elif 0==b**2-4.0*a*c:\n",
    "        # one solution\n",
    "        return -b/(2.0*a)\n",
    "    else:\n",
    "        # no solutions\n",
    "        return None"
   ]
  },
  {
   "cell_type": "markdown",
   "metadata": {
    "slideshow": {
     "slide_type": "subslide"
    }
   },
   "source": [
    "### Could use functions"
   ]
  },
  {
   "cell_type": "code",
   "execution_count": null,
   "metadata": {},
   "outputs": [],
   "source": [
    "def test_solve_quadratic():\n",
    "    \n",
    "    assert solve_quadratic(1,0,-1)==(-1.0,1.0)\n",
    "    assert solve_quadratic(1,0,0)==(0.0)\n",
    "    assert solve_quadratic(1,0,1) is None\n",
    "    \n",
    "    return 'Tests pass'\n",
    "\n",
    "test_solve_quadratic()"
   ]
  },
  {
   "cell_type": "markdown",
   "metadata": {},
   "source": [
    "wraps tests up  into one callable function.\n",
    "\n",
    "We can still do better.\n",
    "\n",
    "Let's look at automated solutions."
   ]
  },
  {
   "cell_type": "markdown",
   "metadata": {
    "slideshow": {
     "slide_type": "slide"
    }
   },
   "source": [
    "### Doctests\n",
    "\n",
    "`doctest` library is part of standard library. Allows you to write simple tests which are also\n",
    "self documenting examples.\n",
    "\n",
    "Copy input + output into the docstring."
   ]
  },
  {
   "cell_type": "markdown",
   "metadata": {
    "slideshow": {
     "slide_type": "subslide"
    }
   },
   "source": [
    "_docstring\\_test.py:_\n",
    "```python\n",
    "import doctest\n",
    "\n",
    "def mean(x):\n",
    "    \"\"\"Mean of a list of numbers.\n",
    "    \n",
    "    >>> mean([1, 5, 9])\n",
    "    5.0\n",
    "    \n",
    "    \"\"\"\n",
    "    return sum(x)/len(x)\n",
    "\n",
    "if __name__ == \"__main__\":\n",
    "    import doctest\n",
    "    doctest.testmod()\n",
    "\n",
    "```"
   ]
  },
  {
   "cell_type": "markdown",
   "metadata": {
    "slideshow": {
     "slide_type": "subslide"
    }
   },
   "source": [
    "Can run test by running module as script\n",
    "\n",
    "`python -m docstring_test`\n",
    "\n",
    "or \n",
    "\n",
    "`python docstring_test.py`"
   ]
  },
  {
   "cell_type": "markdown",
   "metadata": {
    "slideshow": {
     "slide_type": "subslide"
    }
   },
   "source": [
    "can also run on generic files in Python\n",
    "\n",
    "```python\n",
    "import doctest\n",
    "doctest.testfile(\"example.txt\")\n",
    "```\n",
    "or from the command line.\n",
    "\n",
    "```bash\n",
    "python -m doctest example.txt\n",
    "```"
   ]
  },
  {
   "cell_type": "markdown",
   "metadata": {
    "slideshow": {
     "slide_type": "subslide"
    }
   },
   "source": [
    "Good points:\n",
    "- Simple\n",
    "- Clear\n",
    "- Tests examples\n",
    "- Easy(ish) to maintain"
   ]
  },
  {
   "cell_type": "markdown",
   "metadata": {
    "slideshow": {
     "slide_type": "subslide"
    }
   },
   "source": [
    "Bad points:\n",
    "- Fragile\n",
    "- Still adds maintenance cost\n",
    "- Only does string comparisons\n",
    "- Can't test what you can't write."
   ]
  },
  {
   "cell_type": "markdown",
   "metadata": {},
   "source": [
    "<div class=\"alert alert-info\"> \n",
    "    \n",
    "<h3>Exercise three: doctests</h3>\n",
    "\n",
    "\n",
    "Write some functions with doctest examples/tests. Make note of what's easy/hard\n",
    "    \n",
    "</div>"
   ]
  },
  {
   "cell_type": "markdown",
   "metadata": {
    "slideshow": {
     "slide_type": "slide"
    }
   },
   "source": [
    "### The `unittest` module\n",
    "\n",
    "Another inbuilt module.\n",
    "\n",
    "Framework for generic testing.\n",
    "\n",
    "Three stages:\n",
    "- Set up\n",
    "- Run\n",
    "- Tear down (i.e. clean up)\n",
    "\n",
    "example: `unittest_example.py`\n",
    "\n",
    "Run with python unittest_example.py"
   ]
  },
  {
   "cell_type": "markdown",
   "metadata": {},
   "source": [
    "<div class=\"alert alert-info\"> \n",
    "    \n",
    "<h3>Exercise three: unittests</h3>\n",
    "\n",
    "\n",
    "Write some functions with unittest test classes. Make note of what's easy/hard\n",
    "    \n",
    "</div>"
   ]
  },
  {
   "cell_type": "markdown",
   "metadata": {
    "slideshow": {
     "slide_type": "slide"
    }
   },
   "source": [
    "### `Pytest`\n",
    "\n",
    "Third party package.\n",
    "\n",
    "Like `unittest` but basic mode easier to set up.\n",
    "\n",
    "Other brands of Python test engine engine exist.\n",
    "\n",
    "### Install the package\n",
    "\n",
    "`pip install pytest`"
   ]
  },
  {
   "cell_type": "markdown",
   "metadata": {
    "slideshow": {
     "slide_type": "subslide"
    }
   },
   "source": [
    "### Using `pytest`\n",
    "\n",
    "\n",
    "```python\n",
    "\n",
    "def test_solve_quadratic():\n",
    "    \n",
    "    assert foo.solve_quadratic(1,0,-1)==(-1.0,1.0)\n",
    "    assert foo.solve_quadratic(1,0,0)==0.0\n",
    "    assert foo.solve_quadratic(1,0,1) is None\n",
    "    \n",
    "```\n",
    "\n",
    "Tests should be ready to error on failure.\n",
    "\n",
    "tool automatically searches for files & directories with`test` in the name.\n",
    "\n",
    "python -m pytest --doctest-modules pytest_example.py docstring_test.py unittest_example.py"
   ]
  },
  {
   "cell_type": "markdown",
   "metadata": {
    "slideshow": {
     "slide_type": "slide"
    }
   },
   "source": [
    "## Code coverage\n",
    "\n",
    "Want every bit of code to be run by at least one test\n",
    "\n",
    "Module `pytest-cov`, adds coverage information to pytest.\n",
    "\n",
    "100% code coverage is useful, but only means every line in isolation, not that every possible code logic branch has been tested.\n",
    "\n",
    "Often becomes a tool of managers (like lines of code)"
   ]
  },
  {
   "cell_type": "markdown",
   "metadata": {},
   "source": [
    "<div class=\"alert alert-info\"> \n",
    "    \n",
    "<h3>Exercise fivw: pytest</h3>\n",
    "\n",
    "\n",
    "Write some functions with pytest tests. Make note of what's easy/hard. How do you find it compared to `unittest`?\n",
    "    \n",
    "</div>"
   ]
  },
  {
   "cell_type": "markdown",
   "metadata": {
    "slideshow": {
     "slide_type": "slide"
    }
   },
   "source": [
    "## Taxonomy of tests\n",
    "\n",
    "1. Unit tests - small, fast, single \"unit\".\n",
    "2. Integration tests - combine units together\n",
    "3. Feature/functionality testing\n",
    "4. Regression testing\n",
    "5. Other stuff (GUIs, business logic)"
   ]
  },
  {
   "cell_type": "markdown",
   "metadata": {
    "slideshow": {
     "slide_type": "slide"
    }
   },
   "source": [
    "### Mocking up inputs\n",
    "\n",
    "Tests need input. Unit tests need to run individually.\n",
    "\n",
    "Must make \"fake\" inputs with suitable classes & methods.\n",
    "\n",
    "Several useful packages out there."
   ]
  },
  {
   "cell_type": "markdown",
   "metadata": {
    "slideshow": {
     "slide_type": "slide"
    }
   },
   "source": [
    "## Sphinx & Automatic documentation\n",
    "\n",
    "Documentation is written for three broad groups of people:\n",
    "\n",
    "1. Users (\"I don't care how it does it, I care what it does.\")\n",
    "1. User-Developers (\"I build what I need.\")\n",
    "1. Developers (\"I make it, but I don't use it.\")\n",
    "\n",
    "For all groups, best documentation is in docstring"
   ]
  },
  {
   "cell_type": "markdown",
   "metadata": {
    "slideshow": {
     "slide_type": "slide"
    }
   },
   "source": [
    "### What is Sphinx\n",
    "\n",
    "Tools like Sphinx convert docstrings into manuals (or web pages)\n",
    "\n",
    "Uses reStructured Text mark up,"
   ]
  },
  {
   "cell_type": "markdown",
   "metadata": {
    "slideshow": {
     "slide_type": "subslide"
    }
   },
   "source": [
    "_`docs/conf.py`_:\n",
    "\n",
    "```python\n",
    "import sys\n",
    "import os\n",
    "\n",
    "## We're working in the ./docs directory, but need the package root in the path\n",
    "## This command appends the directory one level up, in a cross-platform way. \n",
    "sys.path.insert(0, os.path.abspath(os.sep.join((os.curdir, '..'))))\n",
    "\n",
    "project = 'MyCoolProject'\n",
    "extensions = ['sphinx.ext.autodoc',\n",
    "              'sphinx.ext.napoleon',\n",
    "              'sphinx.ext.mathjax']\n",
    "source_suffix = '.rst'\n",
    "master_doc = 'index'\n",
    "exclude_patterns = ['_build']\n",
    "autoclass_content = \"both\"\n",
    "```"
   ]
  },
  {
   "cell_type": "markdown",
   "metadata": {
    "slideshow": {
     "slide_type": "subslide"
    }
   },
   "source": [
    "_`docs/index.rst`_:\n",
    "\n",
    "```rst\n",
    "#############\n",
    "mycoolproject\n",
    "#############\n",
    "\n",
    "\n",
    "A heading\n",
    "---------\n",
    "\n",
    "This is just example text, perhaps with mathematics like :math:`x^2`, **bold text** and *italics*.\n",
    "It might also include citations [1]_ inline references to functions like :func:`my_func` or even whole code blocks::\n",
    "\n",
    "    def my_example(a, b):\n",
    "        \"\"\"Do something!\"\"\"\n",
    "        return a**b+1\n",
    "\n",
    ".. automodule:: mycoolproject\n",
    "  :members:\n",
    "  \n",
    "  \n",
    ".. rubric:: References\n",
    "[1] http://www.sphinx-doc.org/en/master/usage/restructuredtext/basics.html#citations\n",
    "```"
   ]
  },
  {
   "cell_type": "markdown",
   "metadata": {
    "slideshow": {
     "slide_type": "subslide"
    }
   },
   "source": [
    "Can build entire html documentation just with:\n",
    "\n",
    "`sphinx-build -b html docs docs/html`"
   ]
  },
  {
   "cell_type": "markdown",
   "metadata": {},
   "source": [
    "<div class=\"alert alert-info\"> \n",
    "    \n",
    "<h3>Exercise six: sphinx</h3>\n",
    "\n",
    "\n",
    "Install sphinx and try and build some documentation.\n",
    "    \n",
    "</div>"
   ]
  },
  {
   "cell_type": "markdown",
   "metadata": {
    "slideshow": {
     "slide_type": "slide"
    }
   },
   "source": [
    "<h2> In this lecture we learned</h2>\n",
    "\n",
    "<ul>\n",
    "    <li>How to write a formal test</li>\n",
    "    <li>The basics of Test Driven Development</li>\n",
    "    <li>To use automated testing using testing frameworks and pytest</li>\n",
    "    <li>Documentation via Sphinx</li>\n",
    "</ul>"
   ]
  },
  {
   "cell_type": "markdown",
   "metadata": {
    "slideshow": {
     "slide_type": "slide"
    }
   },
   "source": [
    "## Next week\n",
    "\n",
    "\n",
    "- Monday: The Cloud & Web apps\n",
    "- Tuesday: Pandas & Data Processing\n",
    "- Wednesday: _no events_\n",
    "- Thursday: The Cloud & Virtualization\n",
    "- Friday: Github & Continuous Integration."
   ]
  }
 ],
 "metadata": {
  "celltoolbar": "Slideshow",
  "jupyter": {
   "jupytext": {
    "text_representation": {
     "extension": ".md",
     "format_name": "myst",
     "format_version": "1.1",
     "jupytext_version": "1.1.0"
    }
   },
   "kernelspec": {
    "display_name": "Python 3",
    "language": "python",
    "name": "python3"
   }
  },
  "kernelspec": {
   "display_name": "Python 3",
   "language": "python",
   "name": "python3"
  },
  "language_info": {
   "codemirror_mode": {
    "name": "ipython",
    "version": 3
   },
   "file_extension": ".py",
   "mimetype": "text/x-python",
   "name": "python",
   "nbconvert_exporter": "python",
   "pygments_lexer": "ipython3",
   "version": "3.8.8"
  },
  "rise": {
   "autolaunch": true,
   "enable_chalkboard": true
  }
 },
 "nbformat": 4,
 "nbformat_minor": 2
}
