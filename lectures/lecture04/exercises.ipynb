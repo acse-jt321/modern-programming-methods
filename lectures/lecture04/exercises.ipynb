{
 "cells": [
  {
   "cell_type": "markdown",
   "id": "9de2d6fb",
   "metadata": {},
   "source": [
    "# Test Driven Development\n",
    "\n",
    "## Exercises"
   ]
  },
  {
   "cell_type": "markdown",
   "id": "fb0a1e2e",
   "metadata": {},
   "source": [
    "<div class=\"alert alert-info\">\n",
    "\n",
    "<h3>Exercise One: TDD</h3>\n",
    "\n",
    "\n",
    "Try and write your own attempt at TTD for the following problems:\n",
    "\n",
    "<ol>\n",
    "    <li> Write an implementation of a <a href=\"https://en.wikipedia.org/wiki/Fizz_buzz\">fizz buzz</a> function. Fizz Buzz is a children's game, where players count up from one around a circle. \n",
    "    <ul>\n",
    "        <li> However, any number divisible by 3 is replaced by the word \"<i>fizz</i>\".</li>\n",
    "        <li> Any number divisible by 5 is replaced by the word \"<i>buzz</i>\". </li>\n",
    "        <li> Numbers divisible by both become \"<i>fizz buzz</i>\".</li>\n",
    "    </ul>\n",
    "    Players who say the worng thing lose the game. Writing a program to generate the first <it>n</it> integers in fizz buzz encoding has sometimes been used as an interview question for programmers.\n",
    "\n",
    "  <p>Your function should accept an integer, $x$, and return either $x$, <code>'fizz'</code>, <code>'buzz'</code> or <code>'fizz buzz'</code> according to the rules above.</p></li>\n",
    "  \n",
    "  <br>\n",
    "  \n",
    " Remember, in TTD <it>first</it> you write a test for an aspect of the function, then you write the code to solve it.\n",
    "  \n",
    "<li>Write a program to put the elements of an $n$ dimensional <code>numpy</code> array, $X$, into order of size.\n",
    "    <ul>\n",
    "        <li> The code should have output $Y$ with <code>Y[i,...]&lt;[j,...]</code> for all <code>i&lt;j</code>.</li>\n",
    "        <li> The code should have output $Y$ with <code>Y[k,i..]&lt;[k,j,..]</code> for all <code>i&lt;j</code> and fixed k</li>\n",
    "        <li> And so on.</li>\n",
    "        <li> Note that this means when written in the form\n",
    "<p><code> [[..[x_1, .., x_n], [x_n+1, .., x_2n], .., x_N]]</code></p>\n",
    "we have <code>x_n&lt; x_n+i</code> for all <code>i&gt;0</code>.</li>\n",
    "    </ul></li>\n",
    "\n",
    "<li>Write a function to accept or reject a string as a candidate for a password based on the following criteria:\n",
    "    <ul>\n",
    "        <li> The string is between 8 and 1024 characters long.</li>\n",
    "        <li> The string contains a number</li>\n",
    "        <li> The string contains a capital letter</li>\n",
    "        <li> The string contains none of the following characters: <code>@&lt;&gt;!</code></li>\n",
    "    </ul>\n",
    "</li></ol>\n",
    "\n",
    "Write only enough new code to satisfy each test you write, and to fix your previous tests, before moving on to another test stage. Once the test passes, remember to have a look at your code to see if anything can be refactored.\n",
    "\n",
    "The goal here is to concentrate on the TDD process, not on the code itself, but for completeness, [model answers](https://msc-acse.github/ACSE-1/lectures/lecture10-solutions.html) are available.\n",
    "    \n",
    "</div>"
   ]
  },
  {
   "cell_type": "markdown",
   "id": "76c3e669",
   "metadata": {},
   "source": [
    "<div class=\"alert alert-info\">\n",
    "\n",
    "<h3>Exercise Two: <code>doctest</code></h3>\n",
    "\n",
    "<p>Write some tests using the doctest module inside your own module or script.</p>\n",
    "\n",
    "<ol>\n",
    "    <li> First write some tests which pass.</li>\n",
    "    <li> Next write some tests which do not pass.</li>\n",
    "    <li> Swap your work with another student (why not use github?).</li>\n",
    "    <li> Fix their failing tests, either by editing the code or changing the tests.</li>\n",
    "</ol>\n",
    "\n",
    "<p>You can use some of the modules you wrote earlier in the course, or else write some new code.</p>\n",
    "\n",
    "</div>"
   ]
  },
  {
   "cell_type": "markdown",
   "id": "13df554c",
   "metadata": {},
   "source": [
    "<div class=\"alert alert-info\">\n",
    "\n",
    "<h3>Exercise Three: <code>unittest</code></h3>\n",
    "\n",
    "Try this yourself by writing a unittest using the `unittest` module. You can start from some of the code you wrote for the introductory exercises, or earlier in the week if you want. Try breaking and then fixing the test.\n",
    "\n",
    "</div>"
   ]
  },
  {
   "cell_type": "markdown",
   "id": "90c7e816",
   "metadata": {},
   "source": [
    "<div class=\"alert alert-info\">\n",
    "\n",
    "<h3>Exercise Four: Pytest</h3>\n",
    "\n",
    "<ul>\n",
    "    <li>Clone <a href=\"https://github.com/jrper/CI\">the example repository</a> using git, install <code>pytest</code> using <code>pip</code> or <code>conda</code> and run the tests.</li>\n",
    "    <li>Try breaking some of the tests by editting the <code>.py</code> files.</li>\n",
    "    <li>Write your own pytest test for some of your code.</li>\n",
    "</ul>\n",
    "\n",
    "</div>"
   ]
  },
  {
   "cell_type": "markdown",
   "id": "fd49acd7",
   "metadata": {},
   "source": [
    "<div class=\"alert alert-info\">\n",
    "\n",
    "<h3> Exercise Five: Autodocumenting your module</h3>\n",
    "\n",
    "<ul><li> Use <code>pip</code> or <code>conda</code> to install <code>sphinx</code> on your computer. </li>\n",
    "<li> Create a <code>docs</code> directory inside your module and add <code>conf.py</code> and <code>index.rst</code> files based on the ones given above.</li>\n",
    "<li> Run <code>sphinx-build</code> to generate <code>html</code> documentation for your project.</li>\n",
    "<li> Try editting the <code>index.rst</code> file to add more text.</li></ul>\n",
    "    \n",
    "</div>"
   ]
  },
  {
   "cell_type": "code",
   "execution_count": null,
   "id": "4a470085",
   "metadata": {},
   "outputs": [],
   "source": []
  }
 ],
 "metadata": {
  "kernelspec": {
   "display_name": "Python 3",
   "language": "python",
   "name": "python3"
  },
  "language_info": {
   "codemirror_mode": {
    "name": "ipython",
    "version": 3
   },
   "file_extension": ".py",
   "mimetype": "text/x-python",
   "name": "python",
   "nbconvert_exporter": "python",
   "pygments_lexer": "ipython3",
   "version": "3.8.8"
  }
 },
 "nbformat": 4,
 "nbformat_minor": 5
}
