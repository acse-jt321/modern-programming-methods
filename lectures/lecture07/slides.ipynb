{
 "cells": [
  {
   "cell_type": "markdown",
   "metadata": {
    "lines_to_next_cell": 0,
    "slideshow": {
     "slide_type": "slide"
    }
   },
   "source": [
    "# The Cloud, Part II: Virtualization\n",
    "\n",
    "## Front Matter\n",
    "### October 21st 2021 - Version 2.1.0"
   ]
  },
  {
   "cell_type": "markdown",
   "metadata": {
    "lines_to_next_cell": 0,
    "slideshow": {
     "slide_type": "slide"
    }
   },
   "source": [
    "### Contact Details\n",
    "<div class=\"alert alert-warning\">\n",
    "\n",
    " - Dr. James Percival\n",
    " - Room 4.85 RSM building (ask first)\n",
    " - email: j.percival@imperial.ac.uk\n",
    " - Teams: <code>@Percival, James R</code> in module Team, or DM me.\n",
    "</div>"
   ]
  },
  {
   "cell_type": "markdown",
   "metadata": {
    "lines_to_next_cell": 0,
    "slideshow": {
     "slide_type": "slide"
    }
   },
   "source": [
    "### Learning Objectives\n",
    "\n",
    "- Understand the basic difference between an emulator, a virtual machine and a container\n",
    "- Know how to provision your own virtual machines on Azure\n",
    "- Know the basics of building your own Docker container\n",
    "- Understand the basics using SQL in Python"
   ]
  },
  {
   "cell_type": "markdown",
   "metadata": {
    "lines_to_next_cell": 0,
    "slideshow": {
     "slide_type": "slide"
    }
   },
   "source": [
    "## Virtualization & Containerization\n",
    "\n",
    "### Emulation\n",
    "\n",
    "- Computer software acts as a \"function\" on hardware, taking in inputs and providing an output.\n",
    "- Software written for one set of hardware can run on another if the inputs are the same and the outputs are processed appropriately.\n",
    "- Those inputs can be provided by hardware _or_ software\n",
    "Examples:\n",
    "  - Old computer consoles\n",
    "  - Rosetta on M1 Macs"
   ]
  },
  {
   "cell_type": "markdown",
   "metadata": {
    "lines_to_next_cell": 0,
    "slideshow": {
     "slide_type": "subslide"
    }
   },
   "source": [
    "### Translation layers\n",
    "\n",
    "- Rather than \"faking\" hardware, we can fake software.\n",
    "- Take user calls out to one operating system & run them on another\n",
    "Examples:\n",
    "  - WINE on Linux runs windows software\n",
    "  - WSL on Windows (particularly the first version"
   ]
  },
  {
   "cell_type": "markdown",
   "metadata": {
    "lines_to_next_cell": 0,
    "slideshow": {
     "slide_type": "subslide"
    }
   },
   "source": [
    "### Virtual Machines\n",
    "\n",
    "- As well as faking other hardware, computers can fake being (subset of) themselves.\n",
    "- Second \"layer\" of file system, OS kernel & userspace on top of original, rather than BIOS\n",
    "- Virtual machine\n",
    "Ecamples:\n",
    "- Virtual box, WSL 2 (kind of) VMware"
   ]
  },
  {
   "cell_type": "markdown",
   "metadata": {
    "lines_to_next_cell": 0,
    "slideshow": {
     "slide_type": "subslide"
    }
   },
   "source": [
    "- Virtualization is popular in data centres.\n",
    "- Server chips:\n",
    "  - have slow clock speeds (vs desktops)\n",
    "  - have large core counts (up to order 50)\n",
    "  - want tasks in parallel.\n",
    "- Virtualization puts many computers on one chip."
   ]
  },
  {
   "cell_type": "markdown",
   "metadata": {
    "lines_to_next_cell": 0,
    "slideshow": {
     "slide_type": "slide"
    }
   },
   "source": [
    "### A Concrete example: Buying time on an Azure Virtual Machine\n",
    "\n",
    "Let's rent a linux VM from Azure\n",
    "\n",
    "1. Sign into the [Azure portal](https://portal.azure.com)\n",
    "2. From the **All services** blade search for and select **Virtual machines** and then click **+ Add** and chose **+ Virtual machine**\n",
    "3. Set up the machine with appropriate settings in terms of base image and access protocol."
   ]
  },
  {
   "cell_type": "markdown",
   "metadata": {
    "lines_to_next_cell": 0,
    "slideshow": {
     "slide_type": "slide"
    }
   },
   "source": [
    "Remember machines which are up cost credit.\n",
    "\n",
    "Don't go away and leave them.\n",
    "\n",
    "Delete resource groups you're finished with"
   ]
  },
  {
   "cell_type": "markdown",
   "metadata": {
    "lines_to_next_cell": 0,
    "slideshow": {
     "slide_type": "slide"
    }
   },
   "source": [
    "## Azure Web services\n",
    "\n",
    "Relevant protocols for Azure:\n",
    "\n",
    "- Remote Desktop Protocol (RDP), to access Windows (and some linux) virtual machines and to use them in the same manner as a desktop.\n",
    "- Secure Shell (SSH), to access a terminal on VMs (or apps on linux through X forwarding)\n",
    "- Hypertext Transfer Protocol (HTTP/HTTPS) to access services via the web, whether through a browser, or another application.\n",
    "\n",
    "Lets look further how that can work:"
   ]
  },
  {
   "cell_type": "markdown",
   "metadata": {
    "lines_to_next_cell": 0,
    "slideshow": {
     "slide_type": "slide"
    }
   },
   "source": [
    "#### RDP\n",
    "\n",
    "The remote desktop protocol (RDP) connects to a remote Windows machine like it's on your desk.\n",
    "\n",
    "Available for:\n",
    "- Windows PC\n",
    "- Linux\n",
    "- Mac\n",
    "- Android\n",
    "- iOS"
   ]
  },
  {
   "cell_type": "markdown",
   "metadata": {
    "lines_to_next_cell": 0,
    "slideshow": {
     "slide_type": "slide"
    }
   },
   "source": [
    "#### SSH - secure shell\n",
    "\n",
    "- Cryptographically secured shell (i.e. prompt/terminal/command line interface) c\n",
    "- Available for (virtually) all systems.\n",
    "- Most usual way to connect to large HPC systems\n",
    "\n",
    "- Widely used, cheap to run, easy to leverage."
   ]
  },
  {
   "cell_type": "markdown",
   "metadata": {
    "lines_to_next_cell": 0,
    "slideshow": {
     "slide_type": "subslide"
    }
   },
   "source": [
    "<div class=\"alert alert-warning\">\n",
    "    \n",
    "#### Public key cryptography\n",
    "    \n",
    "- based on idea that some things are hard to \"undo\" without secret information\n",
    "- many different algorithms\n",
    "- publish some information-\n",
    "- keep some secret\n",
    "    \n",
    "</div>\n",
    "\n",
    "<div class=\"alert alert-warning\">\n",
    "    \n",
    "##### RSA algorithm\n",
    "    \n",
    "- Pick two largish primes ( $p$ & $q) and one integer $e$).\n",
    "-  Find second integer $d$ with\n",
    "$$ e\\cdot d = 1 \\mod (p-1)(q-1) $$\n",
    "- a couple of extra constrainsts, but nothing\n",
    "- all (relatively) cheap to do."
   ]
  },
  {
   "cell_type": "markdown",
   "metadata": {
    "lines_to_next_cell": 0,
    "slideshow": {
     "slide_type": "subslide"
    }
   },
   "source": [
    "<div class=\"alert alert-warning\">\n",
    "Now maths says\n",
    "$$ m^{ed} = m \\mod pq $$.\n",
    "If I keep $d$ secret and send you $n:=pq$:\n",
    "- **you** can send **me** a message $m$ by calculating\n",
    "$$c = m^e \\mod n $$\n",
    "- I read it by calculating\n",
    "$$ c^d \\mod n = m^{de}\\mod n = m \\mod n.$$\n",
    "- **I** can send *you a signed message\n",
    "by calculating\n",
    "$$c = m^d \\mod n $$\n",
    "- you read it by calculating\n",
    "$$ c^e \\mod n = m^{de}\\mod n = m \\mod n.$$\n",
    "<div>\n",
    "    \n",
    "<div class=\"alert alert-warning\">\n",
    "\n",
    "- breaking the code means factorising $n = p\\timesq$\n",
    "- cost is approximately size of $p/q$\n",
    "- For a 1024 bit key this is 512 bits, $2^{512}\\approx 10^{153}$ operations.\n",
    "\n",
    "</div>"
   ]
  },
  {
   "cell_type": "markdown",
   "metadata": {
    "lines_to_next_cell": 0,
    "slideshow": {
     "slide_type": "subslide"
    }
   },
   "source": [
    "Command in the form `ssh <user>@<server name>` connects to remote computer as specified user using port 22.\n",
    "\n",
    "Firewalls tend to block unexpected connections.\n",
    "\n",
    " E.g `ssh jrper@sshgw.ic.ac.uk` connects me to the college gateway server."
   ]
  },
  {
   "cell_type": "markdown",
   "metadata": {
    "lines_to_next_cell": 0,
    "slideshow": {
     "slide_type": "subslide"
    }
   },
   "source": [
    " \n",
    "\n",
    "### HTTP/HTML\n",
    "\n",
    "By now you are probably sick of hearing about HTTP, so won't say any more here."
   ]
  },
  {
   "cell_type": "markdown",
   "metadata": {
    "lines_to_next_cell": 0,
    "slideshow": {
     "slide_type": "subslide"
    }
   },
   "source": [
    "### Using Azure App Services to serve apps\n",
    "\n",
    "[Azure Web Apps Services](https://azure.microsoft.com/en-gb/services/app-service/web/) delivers http Apps direct from GitHub. \n",
    "\n",
    "We'll do a live demo."
   ]
  },
  {
   "cell_type": "markdown",
   "metadata": {
    "lines_to_next_cell": 0,
    "slideshow": {
     "slide_type": "slide"
    }
   },
   "source": [
    "## Containers\n",
    "\n",
    "- lightweight form of virtualization,\n",
    "- same operating system kernel, many userspaces and filesystems\n",
    "- A lot less work means can run more containers on the same machine."
   ]
  },
  {
   "cell_type": "markdown",
   "metadata": {
    "lines_to_next_cell": 0,
    "slideshow": {
     "slide_type": "slide"
    }
   },
   "source": [
    "### Docker\n",
    "\n",
    "- Most famous & widely used container system is [Docker](https://docker.com). \n",
    "- Usually used for small linux containers\n",
    "\n",
    "Terminology:\n",
    "- scripts are called Dockerfiles\n",
    "- build bundles called \"images\" containing a \"frozen\" system\n",
    "- unfreeze and run bundle as a container."
   ]
  },
  {
   "cell_type": "markdown",
   "metadata": {
    "lines_to_next_cell": 0,
    "slideshow": {
     "slide_type": "subslide"
    }
   },
   "source": [
    "_Dockerfile_\n",
    "\n",
    "```\n",
    "# set base image to build on\n",
    "FROM python:3.8\n",
    "\n",
    "# set/create current working directory inside container\n",
    "WORKDIR /example\n",
    "\n",
    "# copy a file from the host to the container\n",
    "COPY requirements.txt .\n",
    "\n",
    "# run a shell command\n",
    "RUN pip install -r requirements.txt\n",
    "\n",
    "# default command to run when container starts\n",
    "ENTRYPOINT python \n",
    "```"
   ]
  },
  {
   "cell_type": "markdown",
   "metadata": {
    "lines_to_next_cell": 0,
    "slideshow": {
     "slide_type": "subslide"
    }
   },
   "source": [
    "Cheat sheet in lecture notes. As a short summary:\n",
    "\n",
    "|Command| Example | Usage |\n",
    "|:-----:|:-------:|:-----:|\n",
    "|FROM | `FROM python:3.8`| Specify base image to start from.|\n",
    "| COPY | `COPY file.txt /home` | Copy a local file to the container image.|\n",
    "| ADD  | `ADD https://example.com/test.zip .` | Copy local or remote file to container image. |\n",
    "| WORKDIR | `WORKDIR /home/user` | Switch to/create directory in container.|\n",
    "| RUN     | `RUN python myfile.py`   | Execute command in container image. |\n",
    "| CMD     | `CMD echo \"hello\"       | set default command for `docker run` on image.|\n",
    "| ENTRYPOINT | `ENTRYPOINT echo` | set default command for `docker run` on image (accepts command line arguments). |"
   ]
  },
  {
   "cell_type": "markdown",
   "metadata": {
    "lines_to_next_cell": 0,
    "slideshow": {
     "slide_type": "subslide"
    }
   },
   "source": [
    "Build Dockerfile into image with\n",
    "\n",
    "```\n",
    "docker build [OPTIONS] PATH\n",
    "```\n",
    "\n",
    "e.g. inside the directory containing the Dockerfile and `requirements.txt` file.\n",
    "\n",
    "```\n",
    "docker build --tag example .\n",
    "```"
   ]
  },
  {
   "cell_type": "markdown",
   "metadata": {
    "lines_to_next_cell": 0,
    "slideshow": {
     "slide_type": "subslide"
    }
   },
   "source": [
    "Start container from image with\n",
    "\n",
    "```\n",
    "docker run [OPTIONS] IMAGE [COMMAND]\n",
    "```\n",
    "\n",
    "eg.\n",
    "\n",
    "```\n",
    "docker run -it example\n",
    "```\n",
    "\n",
    "or, for a shell\n",
    "\n",
    "```\n",
    "docker run -it example bash\n",
    "```\n",
    "\n",
    "Images can be uploaded to Dockerhub."
   ]
  },
  {
   "cell_type": "markdown",
   "metadata": {
    "lines_to_next_cell": 0,
    "slideshow": {
     "slide_type": "slide"
    }
   },
   "source": [
    "### Azure container instances\n",
    "\n",
    "Azure provides a service to run web apps and commands packaged into containers. This provides a simple, testable way to run your programs as a web app.\n",
    "\n"
   ]
  },
  {
   "cell_type": "markdown",
   "metadata": {
    "slideshow": {
     "slide_type": "slide"
    }
   },
   "source": [
    "<div class=\"alert alert-warning\">\n",
    "\n",
    "### Local Python GUIs\n",
    "\n",
    "Number GUI Toolkits compatible with Python, including: \n",
    "- [TK](https://docs.python.org/3/library/tk.html),\n",
    "- [GTK+](https://python-gtk-3-tutorial.readthedocs.io/en/latest/)\n",
    "- [QT5](https://www.riverbankcomputing.com/static/Docs/PyQt5/). \n",
    "      \n",
    "Last one works well with Anaconda\n",
    "    \n",
    "</div>"
   ]
  },
  {
   "cell_type": "markdown",
   "metadata": {
    "slideshow": {
     "slide_type": "subslide"
    }
   },
   "source": [
    "<div class=\"alert alert-warning\">\n",
    "\n",
    "The _mygui.py_ script needs the `qtpy` package.\n",
    "\n",
    "```bash\n",
    "pip install qtpy\n",
    "```\n",
    "\n",
    "- Note this is built to work locally, not on Jupyterhub/via Flask.\n",
    "- Need to use the `%gui qt` iPython magic in Jupyter.\n",
    "- Other toolkits exist.\n",
    "    \n",
    "</div>"
   ]
  },
  {
   "cell_type": "code",
   "execution_count": 1,
   "metadata": {
    "slideshow": {
     "slide_type": "subslide"
    }
   },
   "outputs": [],
   "source": [
    "%gui qt\n",
    "\n",
    "import sys\n",
    "import examples.mygui as mygui\n",
    "\n",
    "win = mygui.MainWindow(mygui.app)\n",
    "win.show()"
   ]
  },
  {
   "cell_type": "markdown",
   "metadata": {
    "slideshow": {
     "slide_type": "slide"
    }
   },
   "source": [
    "## Security and the Cloud\n",
    "\n",
    "### Firewalls\n",
    "\n",
    "There are enough evil people on the Internet that nothing is totally safe.\n",
    "\n",
    "- Expect to be attacked!\n",
    "- Network firewalls limit access to expected protocols from expected IPs\n",
    "\n",
    "Azure provides controls on network interfaces to [limit the ports and services](https://docs.microsoft.com/en-us/azure/virtual-machines/windows/nsg-quickstart-portal) over the network. Default (and safest) option denies access unless you ask for it."
   ]
  },
  {
   "cell_type": "markdown",
   "metadata": {
    "slideshow": {
     "slide_type": "slide"
    }
   },
   "source": [
    "### App Authentication & Authorization\n",
    "\n",
    "#### Good password storage\n",
    "\n",
    "Understanding of how to deal with passwords has improved over the years, but it is still very easy to make a mistake. On the other hand, as a technically trained person it's possible that it's something you will one day be asked to organize (or manage). Current best practice is at or above the following protocols:\n",
    "\n",
    "1. Use HTTPS f\n",
    "2. add a \"salt\" to the password it, then hash it.\n",
    "3. Store the salt & hashed password with your immutable user key in your database. Forget the password\n",
    "4. When user logs in apply the same algorithm and then compare results.\n",
    "5. Regardless, secure your database and only grant access on a need to know basis."
   ]
  },
  {
   "cell_type": "markdown",
   "metadata": {
    "slideshow": {
     "slide_type": "subslide"
    }
   },
   "source": [
    "#### Single Sign On (SSO)\n",
    "\n",
    "- Complicated, both for you and the user. \n",
    "- <ake it someone else's problem.\n",
    "\n",
    "Single Sign On (SSO) does this using \"tokens\" (very short lived, very long passwords via a trusted third party website. Many providers:\n",
    "- Google\n",
    "- Facebook\n",
    "- Twitter \n",
    "- Weibo. "
   ]
  },
  {
   "cell_type": "markdown",
   "metadata": {
    "slideshow": {
     "slide_type": "subslide"
    }
   },
   "source": [
    "Many of these use a common framework called Open Authentication version 2 (also known as OAuth2).\n",
    "\n",
    "A variety of SSO helper packages exist for Python. For Azure & Microsoft Active directory, the relevant package is called `msal`. For (most of) an example use case, leveraging another package called `flask-login` look at the files in the `examples/auth` directory.\n",
    "\n",
    "- _login.py_\n",
    "- _teams.py"
   ]
  },
  {
   "cell_type": "markdown",
   "metadata": {
    "slideshow": {
     "slide_type": "slide"
    }
   },
   "source": [
    "#### Multifactor Authentication (MFA)\n",
    "\n",
    "Currently the gold standard for authentication. Need 2 of\n",
    "\n",
    "1. Something you know (e.g. a password)\n",
    "2. Something you have (e.g. your phone)\n",
    "3. Something you are (e.g. your fingerprint)."
   ]
  },
  {
   "cell_type": "markdown",
   "metadata": {
    "slideshow": {
     "slide_type": "slide"
    }
   },
   "source": [
    "#### The GDPR and other legal requirements\n",
    "\n",
    "- The UK and the EU countries have similar data protection laws.\n",
    "- Storing personal information is complicated.\n",
    "- Try not to do it\n",
    "- Only do it as long as you need to\n",
    "\n",
    "Although computational and environmental data science is less affected than, for example, medicine, it is still possible that they will one day apply to you. Individuals have the right to request a copy of the records held on them and to correct any wrong information which is being stored. "
   ]
  },
  {
   "cell_type": "markdown",
   "metadata": {
    "slideshow": {
     "slide_type": "slide"
    }
   },
   "source": [
    "## Other Azure Cloud Services\n",
    "\n",
    "### Azure Functions\n",
    "\n",
    "[Azure Functions](https://azure.microsoft.com/en-gb/blog/introducing-azure-functions/) is a service which allows a Python function to be accessed directly from the web via parameters passed through a URL. An example will be shown in the lecture."
   ]
  },
  {
   "cell_type": "markdown",
   "metadata": {
    "slideshow": {
     "slide_type": "slide"
    }
   },
   "source": [
    "## Data\n",
    "\n",
    "Azure has several systems available to store data, depending on its format. Might be:\n",
    "\n",
    "- unstructured binary data,\n",
    "- structured databases (or spreadsheets)\n",
    "- or something in between."
   ]
  },
  {
   "cell_type": "markdown",
   "metadata": {
    "slideshow": {
     "slide_type": "slide"
    }
   },
   "source": [
    "### Blob Storage\n",
    "\n",
    "To quote Microsoft, [blob storage](https://docs.microsoft.com/en-us/azure/storage/blobs/storage-blobs-introduction) is designed to hold:\n",
    "\n",
    "> - Serving images or documents directly to a browser.\n",
    "> - Storing files for distributed access.\n",
    "> - Streaming video and audio.\n",
    "> - Writing to log files.\n",
    "> - Storing data for backup and restore, disaster recovery, and archiving.\n",
    "> - Storing data for analysis by an on-premises or Azure-hosted service."
   ]
  },
  {
   "cell_type": "markdown",
   "metadata": {
    "slideshow": {
     "slide_type": "subslide"
    }
   },
   "source": [
    "-Data is accessed via a network interface,\n",
    "- You pay for it!\n",
    "- Charges depending on:\n",
    "    - how frequent access is \n",
    "    - the volume of data transferred. \n",
    "    \n",
    "In general a URL is assigned to each item, which can be used in multiple ways, including those listed above, to access the blob object."
   ]
  },
  {
   "cell_type": "markdown",
   "metadata": {
    "slideshow": {
     "slide_type": "subslide"
    }
   },
   "source": [
    "### SQL\n",
    "\n",
    "Azure provides a number of ways to access data in databases.\n",
    "\n",
    "Most of them are built around the [SQL database language](https://www.codecademy.com/articles/sql-commands): \n",
    "- From 1974\n",
    "-  hierarchical approach:\n",
    "    - database server holds databases,\n",
    "    - databases hold tables,\n",
    "    - tables hold records\n",
    "    - records have multiple values in multiple columns. "
   ]
  },
  {
   "cell_type": "markdown",
   "metadata": {
    "slideshow": {
     "slide_type": "subslide"
    }
   },
   "source": [
    "Python comes with inbuilt support for SQL in SQLite format, in which individual databases are stored in local files, via the builtin package `sqlite3`. To use a full fat SQL server on Azure appropriate additional software should be downloaded [e.g the MySql connector](https://docs.microsoft.com/en-us/azure/mysql/connect-python). However the basic syntax to connect to, read and update individual databases remains similar."
   ]
  },
  {
   "cell_type": "code",
   "execution_count": null,
   "metadata": {
    "slideshow": {
     "slide_type": "slide"
    }
   },
   "outputs": [],
   "source": [
    "import sqlite3\n",
    "\n",
    "#Connect to/create db file\n",
    "conn = sqlite3.connect('my_db.sqlite')\n",
    "cur = conn.cursor()"
   ]
  },
  {
   "cell_type": "code",
   "execution_count": null,
   "metadata": {
    "slideshow": {
     "slide_type": "subslide"
    }
   },
   "outputs": [],
   "source": [
    "try:\n",
    "    cur.execute(\"CREATE TABLE fruit(id INTEGER PRIMARY KEY AUTOINCREMENT, name VARCHAR(50), price INTEGER)\")\n",
    "    print(\"Table created\")\n",
    "except sqlite3.OperationalError:\n",
    "    print(\"Table exists\")"
   ]
  },
  {
   "cell_type": "code",
   "execution_count": null,
   "metadata": {
    "slideshow": {
     "slide_type": "subslide"
    }
   },
   "outputs": [],
   "source": [
    "# Write some data\n",
    "cur.execute(\"INSERT INTO fruit (name, price) VALUES (?,?);\", (\"apple\", 300))"
   ]
  },
  {
   "cell_type": "code",
   "execution_count": null,
   "metadata": {},
   "outputs": [],
   "source": [
    "# Read some data\n",
    "cur.execute(\"SELECT * FROM fruit;\")\n",
    "rows = cur.fetchall()\n",
    "\n",
    "for row in rows:\n",
    "    print(row)"
   ]
  },
  {
   "cell_type": "code",
   "execution_count": null,
   "metadata": {
    "slideshow": {
     "slide_type": "subslide"
    }
   },
   "outputs": [],
   "source": [
    "cur.execute(\"SELECT price FROM fruit WHERE id=?;\", \"1\")\n",
    "row = cur.fetchone()\n",
    "print('Price:', row)\n",
    "\n",
    "conn.commit()\n",
    "cur.close()\n",
    "conn.close()"
   ]
  },
  {
   "cell_type": "markdown",
   "metadata": {
    "slideshow": {
     "slide_type": "subslide"
    }
   },
   "source": [
    "For complicated interactions use Pandas or SQLAlchemy."
   ]
  },
  {
   "cell_type": "markdown",
   "metadata": {
    "slideshow": {
     "slide_type": "slide"
    }
   },
   "source": [
    "#### Azure ML Service\n",
    "\n",
    "[This product](https://azure.microsoft.com/en-gb/services/machine-learning/#product-overview) provides a service somewhere between PaaS and SaaS allowing you to develop black box machine learning solutions in classification and prediction. To understand what's going on, you should probably wait until later in the course, but feel free to study independently."
   ]
  },
  {
   "cell_type": "markdown",
   "metadata": {
    "slideshow": {
     "slide_type": "slide"
    }
   },
   "source": [
    "## Summary\n",
    "\n",
    "You should now:\n",
    "- Understand the basic difference between an emulator, a virtual machine and a container\n",
    "- Know how to provision your own virtual machines on Azure\n",
    "- Know the basics of building your own Docker container\n",
    "- Understand the basics using SQL in Python"
   ]
  },
  {
   "cell_type": "markdown",
   "metadata": {
    "slideshow": {
     "slide_type": "slide"
    }
   },
   "source": [
    "## Further Reading\n",
    "\n",
    "- The [Azure documentation pages](https://docs.microsoft.com/en-us/azure/?product=featured), particularly:\n",
    "  - The [pages for Python Developers](https://docs.microsoft.com/en-us/azure/developer/python/)\n",
    "  - The [pages for Virtual Machines](https://docs.microsoft.com/en-us/azure/virtual-machines/windows/)\n",
    "  - The [pages for container instances](https://docs.microsoft.com/en-us/azure/container-instances/container-instances-quickstart)\n",
    "- The other Azure Fundamentals [walkthroughs](https://microsoftlearning.github.io/AZ-900T0x-MicrosoftAzureFundamentals/).\n",
    "- Docker's [documentation](https://docs.docker.com/) pages.\n",
    "- The Docker [tutorials](https://www.docker.com/101-tutorial).\n",
    "- The `msal` [documentation](https://github.com/AzureAD/microsoft-authentication-library-for-python).\n",
    "- More information on [SQL and Python](https://realpython.com/python-sql-libraries/)."
   ]
  },
  {
   "cell_type": "code",
   "execution_count": null,
   "metadata": {},
   "outputs": [],
   "source": []
  }
 ],
 "metadata": {
  "celltoolbar": "Slideshow",
  "jupytext": {
   "cell_metadata_filter": "-all",
   "main_language": "python",
   "notebook_metadata_filter": "-all"
  },
  "kernelspec": {
   "display_name": "Python 3",
   "language": "python",
   "name": "python3"
  },
  "language_info": {
   "codemirror_mode": {
    "name": "ipython",
    "version": 3
   },
   "file_extension": ".py",
   "mimetype": "text/x-python",
   "name": "python",
   "nbconvert_exporter": "python",
   "pygments_lexer": "ipython3",
   "version": "3.8.8"
  }
 },
 "nbformat": 4,
 "nbformat_minor": 2
}
