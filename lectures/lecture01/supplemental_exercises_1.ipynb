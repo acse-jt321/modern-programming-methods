{
 "cells": [
  {
   "cell_type": "markdown",
   "metadata": {
    "slideshow": {
     "slide_type": "slide"
    }
   },
   "source": [
    "# Scientific python: NumPy, SciPy and Matplotlib"
   ]
  },
  {
   "cell_type": "markdown",
   "metadata": {},
   "source": [
    "## Supplemental Exercises to Lecture 1\n",
    "\n",
    "  * Learn what NumPy arrays are\n",
    "  * Learn basic array manipulations\n",
    "  * Learn what vectorial code is\n",
    "  * Quick overview of SciPy\n",
    "  * Learn how to do a simple 2D plot and decorate it\n",
    "  * Learn how to combine plots into a single figure"
   ]
  },
  {
   "cell_type": "markdown",
   "metadata": {},
   "source": [
    "## Further reading\n",
    "* http://scipy-lectures.org\n",
    "* https://www.nature.com/articles/s41586-020-2649-2\n",
    "* https://numpy.org/doc/"
   ]
  },
  {
   "cell_type": "markdown",
   "metadata": {},
   "source": [
    "# Supplemental exercises\n",
    "The following is supplemental if you would like more practice on what you have covered:\n"
   ]
  },
  {
   "cell_type": "code",
   "execution_count": null,
   "metadata": {},
   "outputs": [],
   "source": [
    "# Import pybryt which will be used to check your solutions against reference solutions\n",
    "import pybryt\n",
    "from reflecture import pybryt_reference\n",
    "# Convention: Import numpy and alias/rename it as np\n",
    "import numpy as np"
   ]
  },
  {
   "cell_type": "markdown",
   "metadata": {},
   "source": [
    "### Exercises I\n",
    "We are going to start with an array using the arange method. Use reshape to turn it into a 4 by 5 array named arr and don't change the name.\n",
    "Use arange to create an array with 20 elements. It should be named arr."
   ]
  },
  {
   "cell_type": "code",
   "execution_count": null,
   "metadata": {},
   "outputs": [],
   "source": [
    "## Solution...\n"
   ]
  },
  {
   "cell_type": "code",
   "execution_count": null,
   "metadata": {},
   "outputs": [],
   "source": [
    "## do not change any of the following code. It is used to check your work and provide feedback.\n",
    "with pybryt.check(pybryt_reference(2, 201)):\n",
    "    arr"
   ]
  },
  {
   "cell_type": "markdown",
   "metadata": {},
   "source": [
    "Create a new array called `arr5x4` formed from the array `arr` we have just created."
   ]
  },
  {
   "cell_type": "code",
   "execution_count": null,
   "metadata": {},
   "outputs": [],
   "source": [
    "## Solution...\n"
   ]
  },
  {
   "cell_type": "code",
   "execution_count": null,
   "metadata": {},
   "outputs": [],
   "source": [
    "# do not change any of the following code. It is used to check your work and provide feedback.\n",
    "with pybryt.check(pybryt_reference(2, 202)):\n",
    "    print(arr54.shape)"
   ]
  },
  {
   "cell_type": "markdown",
   "metadata": {},
   "source": [
    "Now change all the elements in the 3rd row to zero."
   ]
  },
  {
   "cell_type": "code",
   "execution_count": null,
   "metadata": {},
   "outputs": [],
   "source": [
    "## Solution...\n"
   ]
  },
  {
   "cell_type": "code",
   "execution_count": null,
   "metadata": {},
   "outputs": [],
   "source": [
    "# do not change any of the following code. It is used to check your work and provide feedback.\n",
    "with pybryt.check(pybryt_reference(2, 203)):\n",
    "    print(arr54)"
   ]
  },
  {
   "cell_type": "markdown",
   "metadata": {},
   "source": [
    "Next let us reverse the order of the columns."
   ]
  },
  {
   "cell_type": "code",
   "execution_count": null,
   "metadata": {},
   "outputs": [],
   "source": [
    "## Solution...\n"
   ]
  },
  {
   "cell_type": "code",
   "execution_count": null,
   "metadata": {},
   "outputs": [],
   "source": [
    "# do not change any of the following code. It is used to check your work and provide feedback.\n",
    "with pybryt.check(pybryt_reference(2, 204)):\n",
    "    print(arr54_flipped)"
   ]
  },
  {
   "cell_type": "markdown",
   "metadata": {},
   "source": [
    "## Exercise II\n",
    "You can explore much more of the functionality of numpy, scipy and Matplotlib. Why not try and write an algorythm for the logistic map https://en.wikipedia.org/wiki/Logistic_map\n",
    "\n",
    "$$ x_{n+1}=rx_{n}\\left(1-x_{n}\\right) $$\t\n",
    " \n",
    "The inputs to your function should be:\n",
    "* float initial value for x\n",
    "* float value_r\n",
    "* int number_of_iterations\n",
    "\n",
    "`r` is contrained bewteen 1 and 4. <br>\n",
    "Our initial value of `x` will have a value between 0 and 1. <br>\n",
    "Write a function that iterates the value for x after a `nitrs` iterations for a given value of `r`. If you would like to use Pybryt to check your function then call your function `f_log_map`. Remember, the inputs to your function is going to be the value of `r`, the intial value of `x`, and the number of iterations `nits`. \n"
   ]
  },
  {
   "cell_type": "code",
   "execution_count": null,
   "metadata": {},
   "outputs": [],
   "source": [
    "## Solution...\n",
    "\n"
   ]
  },
  {
   "cell_type": "code",
   "execution_count": null,
   "metadata": {},
   "outputs": [],
   "source": [
    "# do not change any of the following code. It is used to check your work and provide feedback.\n",
    "with pybryt.check(pybryt_reference(2, 30)):\n",
    "    arr_r = np.linspace(1,4,10)\n",
    "    arr_x0 = np.array([0.76752004, 0.63188991, 0.67896518, 0.80558351, 0.00690206, 0.92499221, \n",
    "               0.98711973, 0.25785336, 0.27612506, 0.09117898])\n",
    "    pybryt.Value(f_log_map(arr_x0, arr_r, 1000))"
   ]
  },
  {
   "cell_type": "markdown",
   "metadata": {},
   "source": [
    "Once you are satisfied that `f_log_map` works then use it to generate plot points. You are going to produce a scatter plot the values of x after a number of iterations (up to you how many) against different values of `r`. The initial values of x should also be randomised. You should see a plot as the one below if it all works out:\n",
    "\n",
    "![](logMap.png)\n"
   ]
  },
  {
   "cell_type": "code",
   "execution_count": null,
   "metadata": {},
   "outputs": [],
   "source": [
    "## Solution... \n",
    "\n"
   ]
  }
 ],
 "metadata": {
  "anaconda-cloud": {},
  "celltoolbar": "Raw Cell Format",
  "kernelspec": {
   "display_name": "Python 3",
   "language": "python",
   "name": "python3"
  },
  "language_info": {
   "codemirror_mode": {
    "name": "ipython",
    "version": 3
   },
   "file_extension": ".py",
   "mimetype": "text/x-python",
   "name": "python",
   "nbconvert_exporter": "python",
   "pygments_lexer": "ipython3",
   "version": "3.8.10"
  }
 },
 "nbformat": 4,
 "nbformat_minor": 1
}
